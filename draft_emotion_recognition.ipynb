{
 "cells": [
  {
   "cell_type": "markdown",
   "id": "26e52987",
   "metadata": {},
   "source": [
    "### **DeepFace Integration:** Multimodal Emotional Recognition"
   ]
  },
  {
   "cell_type": "markdown",
   "id": "585e7c67",
   "metadata": {},
   "source": [
    "Importing needed libraries"
   ]
  },
  {
   "cell_type": "code",
   "execution_count": null,
   "id": "c65900fb",
   "metadata": {},
   "outputs": [
    {
     "name": "stdout",
     "output_type": "stream",
     "text": [
      "WARNING:tensorflow:From C:\\Users\\Akaraan\\AppData\\Local\\Packages\\PythonSoftwareFoundation.Python.3.10_qbz5n2kfra8p0\\LocalCache\\local-packages\\Python310\\site-packages\\tf_keras\\src\\losses.py:2976: The name tf.losses.sparse_softmax_cross_entropy is deprecated. Please use tf.compat.v1.losses.sparse_softmax_cross_entropy instead.\n",
      "\n",
      "25-09-11 19:51:32 - Directory C:\\Users\\Akaraan\\.deepface has been created\n",
      "25-09-11 19:51:32 - Directory C:\\Users\\Akaraan\\.deepface\\weights has been created\n"
     ]
    }
   ],
   "source": [
    "from deepface import DeepFace\n",
    "import matplotlib.pyplot as plt\n",
    "import cv2\n",
    "\n"
   ]
  },
  {
   "cell_type": "markdown",
   "id": "6b67cb50",
   "metadata": {},
   "source": [
    "**Importing Models** "
   ]
  },
  {
   "cell_type": "code",
   "execution_count": null,
   "id": "752e20b7",
   "metadata": {},
   "outputs": [],
   "source": [
    "model_name = 'ArcFace'"
   ]
  }
 ],
 "metadata": {
  "kernelspec": {
   "display_name": "Python 3",
   "language": "python",
   "name": "python3"
  },
  "language_info": {
   "codemirror_mode": {
    "name": "ipython",
    "version": 3
   },
   "file_extension": ".py",
   "mimetype": "text/x-python",
   "name": "python",
   "nbconvert_exporter": "python",
   "pygments_lexer": "ipython3",
   "version": "3.10.11"
  }
 },
 "nbformat": 4,
 "nbformat_minor": 5
}
